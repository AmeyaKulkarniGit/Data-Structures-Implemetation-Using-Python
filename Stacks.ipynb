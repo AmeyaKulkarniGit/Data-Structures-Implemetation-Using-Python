{
 "cells": [
  {
   "cell_type": "markdown",
   "id": "d6e9d29e",
   "metadata": {},
   "source": [
    "## Stacks"
   ]
  },
  {
   "cell_type": "markdown",
   "id": "1a77090d",
   "metadata": {},
   "source": [
    "###### Stack is an Abstract Data Type (ADT). Abstract Data Type is a high level description of a set o operations that can be performed on a collection of data, without specifying how these operations should be implemented"
   ]
  },
  {
   "cell_type": "markdown",
   "id": "0ad93d53",
   "metadata": {},
   "source": [
    "###### Stack is a container of objects that are inserted and removed according to the last-in-first-out principle. Objects can be inserted at any time, but only the last (most recently inserted) object can be removed."
   ]
  },
  {
   "cell_type": "markdown",
   "id": "2518b50f",
   "metadata": {},
   "source": [
    "###### Methods Associated with Stacks - \n",
    "1) new() - Creates a new stack.\n",
    "2) push(s:ADT , o:element) - Inserts object 'o' onto the top of stack 's'.\n",
    "3) pop(s:ADT) - Removes the top object of the stack 's'. If the stack is empty, an error occurs if this method is executed.\n",
    "4) top(s:ADT) - Returns the top object of the stack without removing it from the stack. If the stack is empty, an error occurs if this method is executed\n",
    "\n",
    "###### The following support methods could also be defined - \n",
    "1) size(s:ADT) - Returns the number of objects present in the stack\n",
    "2) isEmpty(s:ADT) - Indicates if the stack 's' is empty. Returns a boolean value"
   ]
  },
  {
   "cell_type": "markdown",
   "id": "19e9d26b",
   "metadata": {},
   "source": [
    "### Python program to demonstrate stack implementation using List"
   ]
  },
  {
   "cell_type": "code",
   "execution_count": 32,
   "id": "17c68734",
   "metadata": {},
   "outputs": [
    {
     "data": {
      "text/plain": [
       "[]"
      ]
     },
     "execution_count": 32,
     "metadata": {},
     "output_type": "execute_result"
    }
   ],
   "source": [
    "#Creating a stack\n",
    "\n",
    "def new():\n",
    "    stack = []\n",
    "    return stack\n",
    "\n",
    "new()"
   ]
  },
  {
   "cell_type": "code",
   "execution_count": 33,
   "id": "37ae2e47",
   "metadata": {},
   "outputs": [
    {
     "name": "stdout",
     "output_type": "stream",
     "text": [
      "Initial Stack: ['a', 'b', 'a', 'b', 'c', 'd', 'e']\n"
     ]
    }
   ],
   "source": [
    "#append() function to push elements in a stack\n",
    "stack.append('a')\n",
    "stack.append('b')\n",
    "stack.append('c')\n",
    "stack.append('d')\n",
    "stack.append('e')\n",
    "\n",
    "print(\"Initial Stack:\" , stack)"
   ]
  },
  {
   "cell_type": "code",
   "execution_count": 34,
   "id": "625d377e",
   "metadata": {},
   "outputs": [
    {
     "name": "stdout",
     "output_type": "stream",
     "text": [
      "Elements popped from the stack: \n",
      "First element to be popped: e\n",
      "Second element to be popped: d\n",
      "Third element to be popped: c\n",
      "\n",
      "Stack after elements are popped: ['a', 'b', 'a', 'b']\n"
     ]
    }
   ],
   "source": [
    "#pop() function to pop elements from stack in the LIFO order\n",
    "print(\"Elements popped from the stack: \")\n",
    "print(\"First element to be popped:\",stack.pop())\n",
    "print(\"Second element to be popped:\",stack.pop())\n",
    "print(\"Third element to be popped:\",stack.pop())\n",
    "\n",
    "print() #To make space between the outputs\n",
    "\n",
    "print(\"Stack after elements are popped:\", stack)"
   ]
  },
  {
   "cell_type": "code",
   "execution_count": 35,
   "id": "ba8c1136",
   "metadata": {},
   "outputs": [
    {
     "data": {
      "text/plain": [
       "'b'"
      ]
     },
     "execution_count": 35,
     "metadata": {},
     "output_type": "execute_result"
    }
   ],
   "source": [
    "#Returns the top elements in the stack\n",
    "\n",
    "def top(stack):\n",
    "    return stack[-1]\n",
    "\n",
    "top(stack)"
   ]
  },
  {
   "cell_type": "code",
   "execution_count": 36,
   "id": "981e16e7",
   "metadata": {},
   "outputs": [
    {
     "data": {
      "text/plain": [
       "4"
      ]
     },
     "execution_count": 36,
     "metadata": {},
     "output_type": "execute_result"
    }
   ],
   "source": [
    "#Returns the size of the stack\n",
    "\n",
    "def size(stack):\n",
    "    return len(stack)\n",
    "\n",
    "size(stack)"
   ]
  },
  {
   "cell_type": "code",
   "execution_count": 37,
   "id": "4a8cf769",
   "metadata": {},
   "outputs": [
    {
     "data": {
      "text/plain": [
       "False"
      ]
     },
     "execution_count": 37,
     "metadata": {},
     "output_type": "execute_result"
    }
   ],
   "source": [
    "#To check if a stack is empty\n",
    "\n",
    "def isEmpty(stack):\n",
    "    return len(stack) == 0\n",
    "\n",
    "isEmpty(stack)"
   ]
  }
 ],
 "metadata": {
  "kernelspec": {
   "display_name": "Python 3 (ipykernel)",
   "language": "python",
   "name": "python3"
  },
  "language_info": {
   "codemirror_mode": {
    "name": "ipython",
    "version": 3
   },
   "file_extension": ".py",
   "mimetype": "text/x-python",
   "name": "python",
   "nbconvert_exporter": "python",
   "pygments_lexer": "ipython3",
   "version": "3.10.9"
  }
 },
 "nbformat": 4,
 "nbformat_minor": 5
}
