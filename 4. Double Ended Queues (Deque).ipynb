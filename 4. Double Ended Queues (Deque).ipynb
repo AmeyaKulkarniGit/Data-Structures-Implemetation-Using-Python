{
 "cells": [
  {
   "cell_type": "markdown",
   "id": "bc6339e1",
   "metadata": {},
   "source": [
    "## Double Ended Queue (Deque)"
   ]
  },
  {
   "cell_type": "markdown",
   "id": "73f78f2b",
   "metadata": {},
   "source": [
    "###### A Double-Ended Queue, or deque is a data structure that allows elements to be added or removed from both ends with constant time complexity."
   ]
  },
  {
   "cell_type": "markdown",
   "id": "6f3b385b",
   "metadata": {},
   "source": [
    "###### In a deque, elements can be inserted or deleted from both the front and rear of the queue. This makes it more versatile than a regular queue or stack because it supports a wider range of operations.The operations commonly associated with a deque include:\n",
    "    \n",
    "1) Add Front: Add an element to the front of the deque.\n",
    "2) Add Rear: Add an element to the rear of the deque.\n",
    "3) Delete Front: Remove an element from the front of the deque.\n",
    "4) Delete Rear: Remove an element from the rear of the deque.\n",
    "5) Front: Get the element at the front of the deque without removing it.\n",
    "6) Rear: Get the element at the rear of the deque without removing it.\n",
    "7) IsEmpty: Check if the deque is empty."
   ]
  },
  {
   "cell_type": "code",
   "execution_count": 1,
   "id": "e509fb6b",
   "metadata": {},
   "outputs": [],
   "source": [
    "class Deque:\n",
    "    \n",
    "    def __init__(self):\n",
    "        self.items = []\n",
    "        \n",
    "    def IsEmpty(self):\n",
    "        return self.items == []\n",
    "    \n",
    "    def addRear(self , item):\n",
    "        self.items.append(item)\n",
    "    \n",
    "    def addFront(self , item):\n",
    "        self.items.insert(0 , item)\n",
    "        \n",
    "    def removeFront(self):\n",
    "        return self.items.pop(0)\n",
    "    \n",
    "    def removeRear(self):\n",
    "        return self.items.pop()\n",
    "    \n",
    "    def size(self):\n",
    "        return len(self.items)"
   ]
  },
  {
   "cell_type": "code",
   "execution_count": 2,
   "id": "b1171ff4",
   "metadata": {},
   "outputs": [],
   "source": [
    "d = Deque()"
   ]
  },
  {
   "cell_type": "code",
   "execution_count": 3,
   "id": "2fca55b9",
   "metadata": {},
   "outputs": [
    {
     "name": "stdout",
     "output_type": "stream",
     "text": [
      "True\n"
     ]
    }
   ],
   "source": [
    "print(d.IsEmpty())"
   ]
  },
  {
   "cell_type": "code",
   "execution_count": 4,
   "id": "8c0e5f61",
   "metadata": {},
   "outputs": [
    {
     "name": "stdout",
     "output_type": "stream",
     "text": [
      "[5, 10, 15]\n"
     ]
    }
   ],
   "source": [
    "d.addRear(5)\n",
    "d.addRear(10)\n",
    "d.addRear(15)\n",
    "\n",
    "print(d.items)"
   ]
  },
  {
   "cell_type": "code",
   "execution_count": 5,
   "id": "ab82deef",
   "metadata": {},
   "outputs": [
    {
     "name": "stdout",
     "output_type": "stream",
     "text": [
      "[2, 1, 5, 10, 15]\n"
     ]
    }
   ],
   "source": [
    "d.addFront(1)\n",
    "d.addFront(2)\n",
    "\n",
    "print(d.items)"
   ]
  },
  {
   "cell_type": "code",
   "execution_count": 6,
   "id": "f4af95d4",
   "metadata": {},
   "outputs": [
    {
     "name": "stdout",
     "output_type": "stream",
     "text": [
      "5\n"
     ]
    }
   ],
   "source": [
    "print(d.size())"
   ]
  },
  {
   "cell_type": "code",
   "execution_count": 8,
   "id": "a1086609",
   "metadata": {},
   "outputs": [
    {
     "data": {
      "text/plain": [
       "15"
      ]
     },
     "execution_count": 8,
     "metadata": {},
     "output_type": "execute_result"
    }
   ],
   "source": [
    "d.removeRear()"
   ]
  },
  {
   "cell_type": "code",
   "execution_count": 9,
   "id": "707b51a7",
   "metadata": {},
   "outputs": [
    {
     "data": {
      "text/plain": [
       "2"
      ]
     },
     "execution_count": 9,
     "metadata": {},
     "output_type": "execute_result"
    }
   ],
   "source": [
    "d.removeFront()"
   ]
  },
  {
   "cell_type": "code",
   "execution_count": 11,
   "id": "21ee8713",
   "metadata": {},
   "outputs": [
    {
     "data": {
      "text/plain": [
       "[1, 5, 10]"
      ]
     },
     "execution_count": 11,
     "metadata": {},
     "output_type": "execute_result"
    }
   ],
   "source": [
    "d.items"
   ]
  }
 ],
 "metadata": {
  "kernelspec": {
   "display_name": "Python 3 (ipykernel)",
   "language": "python",
   "name": "python3"
  },
  "language_info": {
   "codemirror_mode": {
    "name": "ipython",
    "version": 3
   },
   "file_extension": ".py",
   "mimetype": "text/x-python",
   "name": "python",
   "nbconvert_exporter": "python",
   "pygments_lexer": "ipython3",
   "version": "3.10.9"
  }
 },
 "nbformat": 4,
 "nbformat_minor": 5
}
