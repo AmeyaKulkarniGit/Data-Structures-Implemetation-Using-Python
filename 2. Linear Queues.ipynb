{
 "cells": [
  {
   "cell_type": "markdown",
   "id": "e54b19fd",
   "metadata": {},
   "source": [
    "## Linear Queues"
   ]
  },
  {
   "cell_type": "markdown",
   "id": "8f5efec2",
   "metadata": {},
   "source": [
    "###### Queues follow the first-in-first-out principle. The element that goes inside the queue first is the element that comes out of the queue first."
   ]
  },
  {
   "cell_type": "markdown",
   "id": "3ad83e87",
   "metadata": {},
   "source": [
    "###### Methods Associated with Queues - \n",
    "1) New() - Creates an empty queue.\n",
    "2) Enqueue(s:ADT , o : element) - Insert object 'o' at the rear of the queue\n",
    "3) Dequeue(s:ADT) - Remove the object from the front of the queue. An error occurs if the queue is empty\n",
    "\n",
    "###### These support methods are also defined - \n",
    "1) Front(s:ADT) - Returns, but does not remove the front element. An error occurs if the queue is empty\n",
    "2) Size(s:ADT) - Gives the number of elements present in the queue\n",
    "3) IsEmpty - Gives a boolean value which indicates whether or not the queue is empty"
   ]
  },
  {
   "cell_type": "markdown",
   "id": "02d80a00",
   "metadata": {},
   "source": [
    "### Python program to demonstrate Queue implementation"
   ]
  },
  {
   "cell_type": "code",
   "execution_count": 7,
   "id": "d823c0d9",
   "metadata": {},
   "outputs": [],
   "source": [
    "#Making a new queue\n",
    "\n",
    "def New():\n",
    "    queue = []\n",
    "    return queue\n",
    "\n",
    "queue = New()"
   ]
  },
  {
   "cell_type": "code",
   "execution_count": 8,
   "id": "1d085349",
   "metadata": {},
   "outputs": [
    {
     "name": "stdout",
     "output_type": "stream",
     "text": [
      "Enqueued Element: a\n",
      "Enqueued Element: b\n",
      "Enqueued Element: c\n",
      "Enqueued Element: d\n",
      "Enqueued Element: e\n",
      "Enqueued Element: f\n",
      "Initial Queue: ['a', 'b', 'c', 'd', 'e', 'f']\n"
     ]
    }
   ],
   "source": [
    "#Using the append method for enqueue operation\n",
    "\n",
    "def Enqueue(queue , element):\n",
    "    queue.append(element)\n",
    "    print(\"Enqueued Element:\",element)\n",
    "\n",
    "Enqueue(queue , 'a')\n",
    "Enqueue(queue , 'b')\n",
    "Enqueue(queue , 'c')\n",
    "Enqueue(queue , 'd')\n",
    "Enqueue(queue , 'e')\n",
    "Enqueue(queue , 'f')\n",
    "\n",
    "print(\"Initial Queue:\",queue)"
   ]
  },
  {
   "cell_type": "code",
   "execution_count": 9,
   "id": "a1f02539",
   "metadata": {},
   "outputs": [
    {
     "name": "stdout",
     "output_type": "stream",
     "text": [
      "Queue after the dequeue operation: ['d', 'e', 'f']\n"
     ]
    }
   ],
   "source": [
    "#Using the pop method for the dequeue operation\n",
    "\n",
    "def Dequeue(queue):\n",
    "    return queue.pop(0)\n",
    "\n",
    "Dequeue(queue)\n",
    "Dequeue(queue)\n",
    "Dequeue(queue)\n",
    "\n",
    "print(\"Queue after the dequeue operation:\",queue)"
   ]
  },
  {
   "cell_type": "code",
   "execution_count": 12,
   "id": "3ecde916",
   "metadata": {},
   "outputs": [
    {
     "data": {
      "text/plain": [
       "'d'"
      ]
     },
     "execution_count": 12,
     "metadata": {},
     "output_type": "execute_result"
    }
   ],
   "source": [
    "#Finding the first element in the queue - Returns only. Does not pop the element off the queue.\n",
    "\n",
    "def Front(queue):\n",
    "    return queue[0]\n",
    "\n",
    "Front(queue)"
   ]
  },
  {
   "cell_type": "code",
   "execution_count": 13,
   "id": "5d40163f",
   "metadata": {},
   "outputs": [
    {
     "data": {
      "text/plain": [
       "3"
      ]
     },
     "execution_count": 13,
     "metadata": {},
     "output_type": "execute_result"
    }
   ],
   "source": [
    "#Finding the size of the queue\n",
    "\n",
    "def Size(queue):\n",
    "    return len(queue)\n",
    "\n",
    "Size(queue)"
   ]
  },
  {
   "cell_type": "code",
   "execution_count": 14,
   "id": "f7e14d38",
   "metadata": {},
   "outputs": [
    {
     "data": {
      "text/plain": [
       "False"
      ]
     },
     "execution_count": 14,
     "metadata": {},
     "output_type": "execute_result"
    }
   ],
   "source": [
    "#Finding if the queue is empty\n",
    "\n",
    "def IsEmpty(queue):\n",
    "    if len(queue) == 0:\n",
    "        return True\n",
    "    else:\n",
    "        return False\n",
    "    \n",
    "IsEmpty(queue)"
   ]
  }
 ],
 "metadata": {
  "kernelspec": {
   "display_name": "Python 3 (ipykernel)",
   "language": "python",
   "name": "python3"
  },
  "language_info": {
   "codemirror_mode": {
    "name": "ipython",
    "version": 3
   },
   "file_extension": ".py",
   "mimetype": "text/x-python",
   "name": "python",
   "nbconvert_exporter": "python",
   "pygments_lexer": "ipython3",
   "version": "3.10.9"
  }
 },
 "nbformat": 4,
 "nbformat_minor": 5
}
